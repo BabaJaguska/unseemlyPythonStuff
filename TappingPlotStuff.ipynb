{
 "cells": [
  {
   "cell_type": "markdown",
   "metadata": {},
   "source": [
    "## FINGER TAPPING ANALYSIS\n",
    "##### Data collected from patients with neurodegenerative disorders as well as healthy controls"
   ]
  },
  {
   "cell_type": "code",
   "execution_count": 1,
   "metadata": {},
   "outputs": [],
   "source": [
    "import matplotlib.pyplot as plt\n",
    "import numpy as np\n",
    "import scipy.io\n",
    "from tqdm import tqdm\n",
    "import os\n",
    "import pandas as pd\n",
    "import seaborn as sns\n",
    "sns.set(style=\"darkgrid\")\n",
    "import statsmodels.api as sm\n",
    "from statsmodels.formula.api import ols\n",
    "from scipy import stats\n",
    "import math\n",
    "from statsmodels.sandbox.stats.multicomp import multipletests\n",
    "from sklearn.preprocessing import LabelEncoder\n",
    "from sklearn.model_selection import train_test_split\n",
    "#import tensorflow as tf\n",
    "#import keras\n",
    "%matplotlib inline"
   ]
  },
  {
   "cell_type": "markdown",
   "metadata": {},
   "source": [
    "#### Define MEASUREMENT class and stuff"
   ]
  },
  {
   "cell_type": "code",
   "execution_count": 2,
   "metadata": {},
   "outputs": [],
   "source": [
    "class measurement:\n",
    "    def __init__(self, acc1x, acc1y, acc1z, acc2x, acc2y, acc2z, fsr,\n",
    "                 gyro1x, gyro1y, gyro1z,gyro2x, gyro2y, gyro2z,\n",
    "                 tap_task, time, time_tap, ttapstart, ttapstop, diagnosis,\n",
    "                 initials, date, timeOfMeasurement):\n",
    "        \n",
    "        # acceleration\n",
    "        self.acc1x = acc1x # thumb\n",
    "        self.acc1y = acc1y # thumb\n",
    "        self.acc1z = acc1z # thumb\n",
    "        self.acc1Vec = np.sqrt(np.square(self.acc1x)+\n",
    "                               np.square(self.acc1y)+\n",
    "                               np.square(self.acc1z))\n",
    "        \n",
    "        self.acc2x = acc2x # forefinger\n",
    "        self.acc2y = acc2y # forefinger\n",
    "        self.acc2z = acc2z # forefinger\n",
    "        self.acc2Vec = np.sqrt(np.square(self.acc2x)+\n",
    "                               np.square(self.acc2y)+\n",
    "                               np.square(self.acc2z))\n",
    "        \n",
    "        # force\n",
    "        self.fsr = fsr\n",
    "                \n",
    "        # angular velocity\n",
    "        self.gyro1x = gyro1x # thumb\n",
    "        self.gyro1y = gyro1y # thumb\n",
    "        self.gyro1z = gyro1z # thumb\n",
    "        self.gyro1Vec = np.sqrt(np.square(self.gyro1x)+\n",
    "                                np.square(self.gyro1y)+\n",
    "                                np.square(self.gyro1z))\n",
    "        \n",
    "        self.gyro2x = gyro2x # forefinger\n",
    "        self.gyro2y = gyro2y # forefinger\n",
    "        self.gyro2z = gyro2z # forefinger\n",
    "        self.gyro2Vec = np.sqrt(np.square(self.gyro2x)+\n",
    "                                np.square(self.gyro2y)+\n",
    "                                np.square(self.gyro2z))        \n",
    "        \n",
    "        # other\n",
    "        self.tap_task = tap_task # LHEO/LHEC/RHEO/RHEC (left or right hand/eyes open or closed)\n",
    "        self.time = time\n",
    "        self.time_tap = time_tap\n",
    "        self.ttapstart = ttapstart+0.3 #single value, when the actual signal started SECONDS\n",
    "        self.ttapstop = ttapstop-0.3 #single value, when the actual signal stopped SECONDS\n",
    "        self.diagnosis = diagnosis # PD, PSP, MSA, CTRL\n",
    "        self.initials = initials # person name and surname initials \n",
    "        self.date = date # date of recording\n",
    "        self.timeOfMeasurement = timeOfMeasurement #what time that date\n",
    "        self.length = len(acc1x)\n",
    "        self.tappingLength = self.ttapstop - self.ttapstart\n",
    "        self.fs = 200 # sampling rate [Hz]\n",
    "        self.mvcSustained = max(self.fsr[0:int(ttapstart*self.fs)])\n",
    "        self.mvcTapping = max(self.fsr[int(ttapstart*self.fs):int(ttapstop*self.fs)])\n",
    "        #self.mvcTotal = self.mvcTapping if self.mvcTapping>self.mvcSustained else self.mvcSustained\n",
    "        self.normalizedFSR = self.fsr/self.mvcSustained\n",
    "        self.id = self.diagnosis + '_' + self.initials + '_' +self.date \n",
    "        \n",
    "    def packAndCrop(self, seconds):\n",
    "        \n",
    "        # matrix for feeding into a net\n",
    "        # shape: 13 x seconds*SamplingRate\n",
    "        \n",
    "        allPacked = np.concatenate(([self.acc1x], [self.acc1y], [self.acc1z],\n",
    "                                             [self.acc2x], [self.acc2y], [self.acc2z],\n",
    "                                             [self.gyro1x],[self.gyro1y], [self.gyro1z],\n",
    "                                             [self.gyro2x],[self.gyro2y], [self.gyro2z],\n",
    "                                             [self.normalizedFSR]), axis=0) \n",
    "        \n",
    "        allPacked = allPacked[:, int(self.fs*self.ttapstart):int(self.fs*self.ttapstop)]\n",
    "        \n",
    "        crops = []\n",
    "        \n",
    "        modelPackage = np.zeros((13,seconds*self.fs),dtype='float16')\n",
    "        fin = allPacked.shape[1] if allPacked.shape[1]<seconds*self.fs else seconds*self.fs\n",
    "        modelPackage[:,:fin] = allPacked[:,:fin]\n",
    "        \n",
    "        crops.append(modelPackage)\n",
    "        \n",
    "        nCrops = int((allPacked.shape[1] - seconds*self.fs)/self.fs)\n",
    "        for i in range(nCrops):\n",
    "            crops.append(allPacked[:,((i+1)*self.fs):((i+1)*self.fs + seconds*self.fs)])\n",
    "            \n",
    "        \n",
    "        return crops\n",
    "       \n",
    "    def sumUp(self):\n",
    "        temp = {'lenAccThumb': len(self.acc1x),\n",
    "               'lenAccForefinger': len(self.acc2x),\n",
    "               'lenFsr': len(self.fsr),\n",
    "               'lenGyroThumb': len(self.gyro1x),\n",
    "               'lenGyroForefinger': len(self.gyro2x),\n",
    "               'lenTime': len(self.time)}\n",
    "        temp['MATCHING_LENGTHS'] =  len(set(temp.values()))==1\n",
    "        temp['durationInSecs'] = self.length/self.fs\n",
    "        return temp\n",
    "    \n",
    "    def plotSignals(self, xlim = []):\n",
    "        # Optionally pass a tuple for zooming in on the x axis (xmin,xmax)\n",
    "        if len(xlim) <2:\n",
    "            xlim = (0,self.length/self.fs)\n",
    "            \n",
    "        # accelerometers     \n",
    "        plt.figure(figsize=(16,12))\n",
    "        plt.plot(self.time,self.acc1x)\n",
    "        plt.plot(self.time,self.acc1y)\n",
    "        plt.plot(self.time,self.acc1z)\n",
    "        plt.plot(self.time,self.acc2x)\n",
    "        plt.plot(self.time,self.acc2y)\n",
    "        plt.plot(self.time,self.acc2z)\n",
    "        plt.axvline(x = self.ttapstart,color = 'b')\n",
    "        plt.axvline(x = self.ttapstop, color = 'r')\n",
    "        plt.xlim(xlim)\n",
    "        plt.legend(('AccThumbX', 'AccThumbY', 'AccThumbZ',\n",
    "                    'AccIndexX', 'AccIndexY', 'AccIndexZ'))\n",
    "        plt.title('Accelerometers for subject ' + self.initials +\n",
    "                  ' Date: ' + self.date +\n",
    "                  ' Diagnosis: ' + self.diagnosis +\n",
    "                   'Task: ' + self.tap_task)\n",
    "        plt.show()\n",
    "        \n",
    "        # vector accelerometer\n",
    "        plt.figure(figsize=(16,5))\n",
    "        plt.plot(self.time, self.acc1Vec)\n",
    "        plt.plot(self.time, self.acc2Vec)\n",
    "        plt.axvline(x = self.ttapstart,color = 'b')\n",
    "        plt.axvline(x = self.ttapstop, color = 'r')\n",
    "        plt.xlim(xlim)\n",
    "        plt.legend(('AccThumbVector', 'AccIndexVector'))\n",
    "        plt.title('Accelerometer Vectors')\n",
    "        plt.show()\n",
    "        \n",
    "        # gyros\n",
    "        plt.figure(figsize = (16,5))\n",
    "        plt.plot(self.time,self.gyro1x)\n",
    "        plt.plot(self.time,self.gyro1y)\n",
    "        plt.plot(self.time,self.gyro1z)\n",
    "        plt.plot(self.time,self.gyro2x)\n",
    "        plt.plot(self.time,self.gyro2y)\n",
    "        plt.plot(self.time,self.gyro2z)\n",
    "        plt.legend(('GyroThumbX', 'GyroThumbY', 'GyroThumbZ',\n",
    "                    'GyroIndexX', 'GyroIndexY', 'GyroIndexZ'))\n",
    "        plt.axvline(x = self.ttapstart,color = 'b')\n",
    "        plt.axvline(x = self.ttapstop, color = 'r')\n",
    "        plt.xlim(xlim)\n",
    "        plt.title('Gyro data')\n",
    "        \n",
    "        # vector gyro\n",
    "        plt.figure(figsize=(16,5))\n",
    "        plt.plot(self.time, self.gyro1Vec)\n",
    "        plt.plot(self.time, self.gyro2Vec)\n",
    "        plt.axvline(x = self.ttapstart,color = 'b')\n",
    "        plt.axvline(x = self.ttapstop, color = 'r')\n",
    "        plt.xlim(xlim)\n",
    "        plt.legend(('GyroThumbVector', 'GyroIndexVector'))\n",
    "        plt.title('Gyro Vectors')\n",
    "        plt.show()\n",
    "        \n",
    "        # force\n",
    "        plt.figure(figsize=(16,5))\n",
    "        plt.plot(self.time,self.normalizedFSR)\n",
    "        plt.xlim(xlim)\n",
    "        plt.axvline(x = self.ttapstart,color = 'b')\n",
    "        plt.axvline(x = self.ttapstop, color = 'r')\n",
    "        plt.title('Normalized FSR')\n",
    "        plt.show()\n",
    "    \n",
    "\n",
    "        \n",
    "        \n",
    "    "
   ]
  },
  {
   "cell_type": "code",
   "execution_count": 3,
   "metadata": {},
   "outputs": [],
   "source": [
    "def readAdjust(root, directory, file):\n",
    "    \n",
    "    sig = scipy.io.loadmat(root + directory + '/' + file)\n",
    "    \n",
    "    temp = measurement(sig['acc1'][0],\n",
    "                       sig['acc1'][1],\n",
    "                       sig['acc1'][2],\n",
    "                       sig['acc2'][0],\n",
    "                       sig['acc2'][1],\n",
    "                       sig['acc2'][2],\n",
    "                       sig['fsr'][0],\n",
    "                       sig['gyro1'][0],\n",
    "                       sig['gyro1'][1],\n",
    "                       sig['gyro1'][2],\n",
    "                       sig['gyro2'][0],\n",
    "                       sig['gyro2'][1],\n",
    "                       sig['gyro2'][2],\n",
    "                       sig['tap_task'][0], \n",
    "                       sig['time'][0],\n",
    "                       sig['time_tap'][0],\n",
    "                       sig['ttapstart'][0,0], \n",
    "                       sig['ttapstop'][0,0], \n",
    "                       directory,\n",
    "                       file[0:2], \n",
    "                       file[3:13],\n",
    "                       file[14:22])\n",
    "                           \n",
    "    return temp\n",
    "    "
   ]
  },
  {
   "cell_type": "markdown",
   "metadata": {},
   "source": [
    "#### READ THE DATA"
   ]
  },
  {
   "cell_type": "code",
   "execution_count": 4,
   "metadata": {},
   "outputs": [],
   "source": [
    "root = 'C:/Users/Korisnik/Desktop/Minjino/Tapping/Tapping raw data/'\n"
   ]
  },
  {
   "cell_type": "code",
   "execution_count": 5,
   "metadata": {},
   "outputs": [
    {
     "name": "stderr",
     "output_type": "stream",
     "text": [
      "100%|████████████████████████████████████████████████████████████████████████████████████| 4/4 [00:01<00:00,  2.33it/s]\n"
     ]
    }
   ],
   "source": [
    "_,dirs,_ = os.walk(root).__next__()\n",
    "\n",
    "sigs = []\n",
    "for d in tqdm(dirs):\n",
    "    _,_,files = os.walk(root+d).__next__()\n",
    "    sigs = sigs +[readAdjust(root, d, file) for file in files]\n",
    "    \n",
    "    "
   ]
  },
  {
   "cell_type": "markdown",
   "metadata": {},
   "source": [
    "##### Check if everything's okay."
   ]
  },
  {
   "cell_type": "code",
   "execution_count": null,
   "metadata": {},
   "outputs": [],
   "source": [
    "sigs[12].sumUp()"
   ]
  },
  {
   "cell_type": "code",
   "execution_count": null,
   "metadata": {},
   "outputs": [],
   "source": [
    "print('INFO:')\n",
    "print('There are a total of {} files'.format(len(sigs)))\n",
    "\n",
    "temp = [s.sumUp()['MATCHING_LENGTHS'] for s in sigs]\n",
    "if len(set(temp))==1:\n",
    "    print('All signals contain accelerometer, gyro and fsr data of the same length')\n",
    "else:\n",
    "    print('Some files contain data of unequal lengths')\n",
    "\n",
    "\n",
    "    "
   ]
  },
  {
   "cell_type": "code",
   "execution_count": null,
   "metadata": {},
   "outputs": [],
   "source": [
    "sigs[8].plotSignals([0,10])"
   ]
  },
  {
   "cell_type": "markdown",
   "metadata": {},
   "source": [
    "### How does force behave in regard to maximal force exerted in sustained vs tapping conditions?"
   ]
  },
  {
   "cell_type": "code",
   "execution_count": null,
   "metadata": {},
   "outputs": [],
   "source": [
    "diags = []\n",
    "ratios = np.array([],dtype =  'int64')\n",
    "mvs = []\n",
    "mvt =[]\n",
    "task = []\n",
    "for sig in sigs:\n",
    "    diags.append(sig.diagnosis)\n",
    "    ratios = np.append(ratios,sig.mvcSustained/sig.mvcTapping)\n",
    "    mvs.append(sig.mvcSustained)\n",
    "    mvt.append(sig.mvcTapping)\n",
    "    task.append(sig.tap_task)\n",
    "\n",
    " "
   ]
  },
  {
   "cell_type": "markdown",
   "metadata": {},
   "source": [
    "#### Max sustained force. Max tapping force."
   ]
  },
  {
   "cell_type": "code",
   "execution_count": null,
   "metadata": {},
   "outputs": [],
   "source": [
    "plt.figure(figsize = (10,6))\n",
    "sns.boxplot(x = diags, y = mvs, hue = task)\n",
    "plt.title('Maximal force during sustained contraction by task')\n",
    "plt.show()\n",
    "\n",
    "plt.figure(figsize = (10,6))\n",
    "sns.boxplot(x = diags, y = mvt, hue = task)\n",
    "plt.title('Maximal force during tapping by task')\n",
    "plt.show()"
   ]
  },
  {
   "cell_type": "markdown",
   "metadata": {},
   "source": [
    "#### Max sustained over max tapping force"
   ]
  },
  {
   "cell_type": "code",
   "execution_count": null,
   "metadata": {},
   "outputs": [],
   "source": [
    "plt.figure(figsize = [15,9])\n",
    "sns.boxplot(x = diags, y = ratios, hue = task)\n",
    "plt.axhline(y = 1, color = 'k')\n",
    "plt.ylim([-2,10])\n",
    "plt.title('Sustained max/Tapping max ratio')\n",
    "plt.show()"
   ]
  },
  {
   "cell_type": "markdown",
   "metadata": {},
   "source": [
    "More than 50% of CTRL and PD participants present higher force during tapping than during sustained maximal voluntary contraction, for all tasks (Ratio <1). This is not the case in MSA and PSP. \n",
    "This relation is preserved when no task separation is performed, but the line representing ratio of 1 is now closer to the median (fig below).\n",
    "\n",
    "Controls have a stable ratio over all tasks. \n",
    "The ratio has larger excursions into the positive values for PD patients when their eyes are open. \n",
    "PSP patients seem to have pronounced lateral differences."
   ]
  },
  {
   "cell_type": "code",
   "execution_count": null,
   "metadata": {},
   "outputs": [],
   "source": [
    "plt.figure(figsize = [15,9])\n",
    "sns.boxplot(x = diags, y = ratios)\n",
    "plt.axhline(y = 1, color = 'k')\n",
    "plt.ylim([-2,10])\n",
    "plt.title('Sustained max/Tapping max ratio over all tasks')\n",
    "plt.show()"
   ]
  },
  {
   "cell_type": "markdown",
   "metadata": {},
   "source": [
    "Grouping by task:"
   ]
  },
  {
   "cell_type": "code",
   "execution_count": null,
   "metadata": {},
   "outputs": [],
   "source": [
    "plt.figure(figsize = [15,9])\n",
    "sns.boxplot(x = task, y = ratios, hue = diags)\n",
    "plt.axhline(y = 1, color = 'k')\n",
    "plt.ylim([-2,10])\n",
    "plt.title('Sustained max/Tapping max ratio')\n",
    "plt.show()"
   ]
  },
  {
   "cell_type": "markdown",
   "metadata": {},
   "source": [
    "#### Check normality"
   ]
  },
  {
   "cell_type": "code",
   "execution_count": null,
   "metadata": {},
   "outputs": [],
   "source": [
    "# smash these arrays into a dataframe for grouping\n",
    "\n",
    "dfForce = pd.DataFrame({'diagnosis':diags,\n",
    "                        'ratio':ratios ,\n",
    "                        'MaxSustained': mvs ,\n",
    "                        'MaxTapping': mvt,\n",
    "                        'task': task})\n",
    "\n",
    "dfG = pd.DataFrame(dfForce.groupby(['diagnosis','task'])['ratio'].mean())\n"
   ]
  },
  {
   "cell_type": "code",
   "execution_count": null,
   "metadata": {},
   "outputs": [],
   "source": [
    "print(dfG)"
   ]
  },
  {
   "cell_type": "code",
   "execution_count": null,
   "metadata": {},
   "outputs": [],
   "source": [
    "dfG = dfG.ratio"
   ]
  },
  {
   "cell_type": "code",
   "execution_count": null,
   "metadata": {},
   "outputs": [],
   "source": [
    "dfG['CTRL']"
   ]
  },
  {
   "cell_type": "code",
   "execution_count": null,
   "metadata": {},
   "outputs": [],
   "source": [
    "dfG['CTRL']['LHEC']"
   ]
  },
  {
   "cell_type": "code",
   "execution_count": null,
   "metadata": {},
   "outputs": [],
   "source": [
    "residuals = []\n",
    "for i,diag in enumerate(diags):\n",
    "    tempTask = task[i]\n",
    "    residuals.append(ratios[i]-dfG[diag][tempTask])"
   ]
  },
  {
   "cell_type": "code",
   "execution_count": null,
   "metadata": {},
   "outputs": [],
   "source": [
    "plt.plot(residuals)\n",
    "plt.title('Residuals of the mvcSustained/mvcTapping ratio in reference to the corresponding diagnosis+task')\n",
    "plt.show()"
   ]
  },
  {
   "cell_type": "code",
   "execution_count": null,
   "metadata": {},
   "outputs": [],
   "source": [
    "a = plt.hist(residuals,bins=50)\n",
    "plt.title('Histogram of residuals')\n",
    "plt.show()\n",
    "a"
   ]
  },
  {
   "cell_type": "code",
   "execution_count": null,
   "metadata": {},
   "outputs": [],
   "source": [
    "stats.shapiro(residuals)"
   ]
  },
  {
   "cell_type": "markdown",
   "metadata": {},
   "source": [
    "Well of course, totally not normally distributed."
   ]
  },
  {
   "cell_type": "markdown",
   "metadata": {},
   "source": [
    "##### Log/sqrt transform data."
   ]
  },
  {
   "cell_type": "code",
   "execution_count": null,
   "metadata": {},
   "outputs": [],
   "source": [
    "logRatios = np.sqrt(5+np.log(ratios))\n",
    "dfForceLog = pd.DataFrame({'diagnosis':diags,\n",
    "                        'ratio':logRatios,\n",
    "                        'MaxSustained': mvs,\n",
    "                        'MaxTapping': mvt,\n",
    "                        'task': task})\n",
    "\n",
    "dfGLog = pd.DataFrame(dfForceLog.groupby(['diagnosis','task'])['ratio'].mean())\n",
    "dfGLog = dfGLog.ratio\n",
    "print(dfGLog)\n",
    "residualsLog = []\n",
    "for i,diag in enumerate(diags):\n",
    "    tempTask = task[i]\n",
    "    residualsLog.append(logRatios[i]-dfGLog[diag][tempTask])"
   ]
  },
  {
   "cell_type": "code",
   "execution_count": null,
   "metadata": {},
   "outputs": [],
   "source": [
    "plt.plot(residualsLog)\n",
    "plt.title('Residuals of log transformed ratios')\n",
    "plt.show()"
   ]
  },
  {
   "cell_type": "code",
   "execution_count": null,
   "metadata": {},
   "outputs": [],
   "source": [
    "logHist = plt.hist(residualsLog,bins = 50)"
   ]
  },
  {
   "cell_type": "code",
   "execution_count": null,
   "metadata": {},
   "outputs": [],
   "source": [
    "stats.shapiro(residualsLog)"
   ]
  },
  {
   "cell_type": "markdown",
   "metadata": {},
   "source": [
    "Erm...still officially not normal?"
   ]
  },
  {
   "cell_type": "code",
   "execution_count": null,
   "metadata": {},
   "outputs": [],
   "source": [
    "stats.kurtosis(residualsLog)"
   ]
  },
  {
   "cell_type": "code",
   "execution_count": null,
   "metadata": {},
   "outputs": [],
   "source": [
    "stats.skew(residualsLog)"
   ]
  },
  {
   "cell_type": "markdown",
   "metadata": {},
   "source": [
    "But since skewness and kurtosis are alright (internet says up to +-2), I'm gonna do ANOVA anyway. "
   ]
  },
  {
   "cell_type": "code",
   "execution_count": null,
   "metadata": {},
   "outputs": [],
   "source": [
    "# Let's see how the data changed\n",
    "\n",
    "plt.figure(figsize = [15,9])\n",
    "sns.boxplot(x = diags, y = logRatios, hue = task)\n",
    "plt.axhline(y = math.sqrt(5), color = 'k') # 5 jer log(1)=0\n",
    "plt.ylim([0,4])\n",
    "plt.title('Sustained max/Tapping max ratio after sqrt+log transform')\n",
    "plt.show()"
   ]
  },
  {
   "cell_type": "code",
   "execution_count": null,
   "metadata": {},
   "outputs": [],
   "source": [
    "lm = ols('ratio ~ task+diagnosis+task*diagnosis', data = dfForceLog).fit()\n",
    "table = sm.stats.anova_lm(lm, typ=2) # Type 2 ANOVA DataFrame"
   ]
  },
  {
   "cell_type": "code",
   "execution_count": null,
   "metadata": {},
   "outputs": [],
   "source": [
    "table"
   ]
  },
  {
   "cell_type": "markdown",
   "metadata": {},
   "source": [
    "So there appears to be no significant differences between tasks, nor diagnosis*task interaction.\n",
    "BUT. THese data are not paired. Need to group by individuals to test for differences in tasks. \n",
    "However, there is a significant effect in diagnosis disregarding pairing. "
   ]
  },
  {
   "cell_type": "code",
   "execution_count": null,
   "metadata": {},
   "outputs": [],
   "source": [
    "ctrlRatio = dfForceLog[dfForceLog.diagnosis == 'CTRL']['ratio']\n",
    "pdRatio = dfForceLog[dfForceLog.diagnosis == 'PD']['ratio']\n",
    "msaRatio = dfForceLog[dfForceLog.diagnosis == 'MSA']['ratio']\n",
    "pspRatio = dfForceLog[dfForceLog.diagnosis == 'PSP']['ratio']\n",
    "\n",
    "CPD = stats.ttest_ind(ctrlRatio, pdRatio)  \n",
    "CMSA = stats.ttest_ind(ctrlRatio, msaRatio) \n",
    "CPSP = stats.ttest_ind(ctrlRatio, pspRatio) \n",
    "PDMSA = stats.ttest_ind(pdRatio, msaRatio) \n",
    "PDPSP = stats.ttest_ind(pdRatio, pspRatio) \n",
    "MSAPSP = stats.ttest_ind(msaRatio, pspRatio) \n",
    "\n",
    "\n"
   ]
  },
  {
   "cell_type": "code",
   "execution_count": null,
   "metadata": {},
   "outputs": [],
   "source": [
    "pvals = [CPD.pvalue, CMSA.pvalue, CPSP.pvalue, PDMSA.pvalue, PDPSP.pvalue, MSAPSP.pvalue]\n",
    "pvals"
   ]
  },
  {
   "cell_type": "code",
   "execution_count": null,
   "metadata": {},
   "outputs": [],
   "source": [
    "# Correct for multiple testing\n",
    "multipletests(pvals, alpha=0.05, method='bonferroni')"
   ]
  },
  {
   "cell_type": "markdown",
   "metadata": {},
   "source": [
    "So...apparently there is a significant difference(for alpha level 0.05) (even if bonferroni corrected) between CTRL and MSA. ALso CTRL and PSP.\n",
    "But not CTRL and PD.\n",
    "\n",
    "There is a difference between PSP and PD, but not PSP and MSA, nor PD and MSA. \n",
    "If we take a less strict method of correction, such as 'holm' we get significant differences between all groups except PD and CTRL."
   ]
  },
  {
   "cell_type": "code",
   "execution_count": null,
   "metadata": {},
   "outputs": [],
   "source": [
    "multipletests(pvals, alpha=0.05, method='holm')"
   ]
  },
  {
   "cell_type": "markdown",
   "metadata": {},
   "source": [
    "The most certain are differences between CTRL and PSP, as well as PD and PSP.\n",
    "(p< e-06)"
   ]
  },
  {
   "cell_type": "code",
   "execution_count": null,
   "metadata": {},
   "outputs": [],
   "source": [
    "means = [np.mean(ctrlRatio), np.mean(pdRatio), np.mean(msaRatio), np.mean(pspRatio)]\n",
    "plt.bar(['CTRL','PD','MSA','PSP'],means)\n",
    "plt.axhline(y = math.sqrt(5), color = 'k')\n",
    "plt.title('Mean transformed sustained/tapping ratio ratio')\n",
    "plt.show()"
   ]
  },
  {
   "cell_type": "markdown",
   "metadata": {},
   "source": [
    "### Group by patient"
   ]
  },
  {
   "cell_type": "code",
   "execution_count": null,
   "metadata": {},
   "outputs": [],
   "source": [
    "class person:\n",
    "    \n",
    "    def __init__(self,pID):\n",
    "        self.id = pID\n",
    "        self.signals = []\n",
    "        \n",
    "    def addSignals(self, sig):\n",
    "        self.signals.append((sig.tap_task,sig))\n",
    "        \n",
    "        \n",
    "        "
   ]
  },
  {
   "cell_type": "code",
   "execution_count": null,
   "metadata": {},
   "outputs": [],
   "source": [
    "uniqueIds = set([sig.id for sig in sigs])\n",
    "persons = []\n",
    "for personID in uniqueIds:\n",
    "    p = person(personID)\n",
    "    for sig in sigs:\n",
    "        if sig.id == personID:\n",
    "            p.addSignals(sig)\n",
    "            \n",
    "    persons.append(p)       \n",
    "    "
   ]
  },
  {
   "cell_type": "code",
   "execution_count": null,
   "metadata": {},
   "outputs": [],
   "source": [
    "persons[3].__dict__.keys()\n"
   ]
  },
  {
   "cell_type": "code",
   "execution_count": null,
   "metadata": {},
   "outputs": [],
   "source": [
    "persons[33].signals"
   ]
  },
  {
   "cell_type": "code",
   "execution_count": null,
   "metadata": {},
   "outputs": [],
   "source": [
    "persons[21].signals"
   ]
  },
  {
   "cell_type": "markdown",
   "metadata": {},
   "source": [
    "Some persons don't have all tasks. Some have several signals for each task. Remove those with missing data."
   ]
  },
  {
   "cell_type": "code",
   "execution_count": null,
   "metadata": {},
   "outputs": [],
   "source": [
    "validPersons = []\n",
    "for person in persons:\n",
    "    if len(set(person.signals[i][0] for i in range(len(person.signals))))==4:\n",
    "        validPersons.append(person)"
   ]
  },
  {
   "cell_type": "code",
   "execution_count": null,
   "metadata": {},
   "outputs": [],
   "source": [
    "len(validPersons), len(persons)"
   ]
  },
  {
   "cell_type": "markdown",
   "metadata": {},
   "source": [
    "Arite, so we got rid of 9 persons. Oh well. "
   ]
  },
  {
   "cell_type": "code",
   "execution_count": null,
   "metadata": {},
   "outputs": [],
   "source": [
    "validPersons[40].signals"
   ]
  },
  {
   "cell_type": "markdown",
   "metadata": {},
   "source": [
    "Take one of each task."
   ]
  },
  {
   "cell_type": "code",
   "execution_count": null,
   "metadata": {},
   "outputs": [],
   "source": [
    "validPersonsOneEach = []\n",
    "for person in validPersons:\n",
    "    added = {'LHEO':0,'LHEC':0,'RHEO':0,'RHEC':0}\n",
    "    temp = []\n",
    "    for sig in person.signals:\n",
    "        if added[sig[0]]==0:\n",
    "            added[sig[0]]=1\n",
    "            temp.append(sig)\n",
    "    person.oneSignalEachTask = temp\n",
    "    validPersonsOneEach.append(person)\n",
    "    \n",
    "            "
   ]
  },
  {
   "cell_type": "code",
   "execution_count": null,
   "metadata": {},
   "outputs": [],
   "source": [
    "validPersonsOneEach[0].oneSignalEachTask"
   ]
  },
  {
   "cell_type": "code",
   "execution_count": null,
   "metadata": {},
   "outputs": [],
   "source": [
    "# samo signali\n"
   ]
  },
  {
   "cell_type": "code",
   "execution_count": null,
   "metadata": {},
   "outputs": [],
   "source": [
    "# Statsmodels doesn't support repeated measures -__-\n",
    "# Find something else\n",
    "# repack and export to R\n",
    "\n",
    "pid = []\n",
    "diagnosis = []\n",
    "task = []\n",
    "signal = []\n",
    "mvcRatio = []\n",
    "for person in validPersonsOneEach:\n",
    "    taskovi, signali = zip(*person.oneSignalEachTask)\n",
    "    task+= taskovi\n",
    "    signal+=signali\n",
    "    for s in signali:\n",
    "        mvcRatio.append(np.sqrt(5+np.log(s.mvcSustained/s.mvcTapping)))\n",
    "    for i in range(4):\n",
    "        diagnosis.append(signali[0].diagnosis)\n",
    "        pid.append(signali[0].id)\n",
    "    \n",
    "dfExport = pd.DataFrame(np.column_stack([pid,diagnosis,task,mvcRatio]),\n",
    "                     columns = ['pID','diagnosis','task','mvcRatio'])\n",
    "dfExport.to_csv('zaRmvc.csv',index=False)"
   ]
  },
  {
   "cell_type": "code",
   "execution_count": null,
   "metadata": {},
   "outputs": [],
   "source": [
    "dfExport.head()"
   ]
  },
  {
   "cell_type": "markdown",
   "metadata": {},
   "source": [
    "Checked repeated measures in R, and still no significant effect."
   ]
  },
  {
   "cell_type": "raw",
   "metadata": {},
   "source": [
    "Error: pID:task\n",
    "                Df Sum Sq Mean Sq F value Pr(>F)\n",
    "task             3  0.062 0.02078   0.746  0.527\n",
    "diagnosis:task   9  0.386 0.04292   1.541  0.140\n",
    "Residuals      129  3.594 0.02786 "
   ]
  },
  {
   "cell_type": "markdown",
   "metadata": {},
   "source": [
    "But maybe not enough data now that I only kept one of each. On such a mutilated set, even diagnosis comparisons are barely significant. \n",
    "\n",
    "Also, not equal number of patients per group, maybe pick 40 of each group. \n",
    "\n",
    "Check the outliers. \n",
    "\n",
    "Also check variances and stuff and then redo the statistical analysis."
   ]
  },
  {
   "cell_type": "raw",
   "metadata": {},
   "source": [
    "> describeBy(df$mvcRatio,df$diagnosis) #function in 'psych' library\n",
    "\n",
    " Descriptive statistics by group \n",
    "group: CTRL\n",
    "   vars  n mean   sd median trimmed  mad  min  max range skew kurtosis   se\n",
    "X1    1 44 2.26 0.24   2.19    2.23 0.13 1.83 2.99  1.16 1.41     2.04 0.04\n",
    "------------------------------------------------------------------------------------------- \n",
    "group: MSA\n",
    "   vars  n mean   sd median trimmed mad  min  max range skew kurtosis   se\n",
    "X1    1 48 2.32 0.25   2.32    2.31 0.2 1.68 3.17  1.49 0.54     1.97 0.04\n",
    "------------------------------------------------------------------------------------------- \n",
    "group: PD\n",
    "   vars  n mean  sd median trimmed  mad min  max range skew kurtosis   se\n",
    "X1    1 44  2.2 0.2   2.16    2.19 0.11 1.8 2.83  1.03 0.85      1.1 0.03\n",
    "------------------------------------------------------------------------------------------- \n",
    "group: PSP\n",
    "   vars  n mean   sd median trimmed  mad  min  max range skew kurtosis   se\n",
    "X1    1 52 2.38 0.29   2.28    2.35 0.17 1.98 3.23  1.25  1.1     0.69 0.04"
   ]
  },
  {
   "cell_type": "markdown",
   "metadata": {},
   "source": [
    "For the time being, it seems appropriate to include FSR data into the model, but perhaps treating all tasks as equal, since there seems to be no meaningful difference between them. But, is this the case for other signals too? "
   ]
  },
  {
   "cell_type": "markdown",
   "metadata": {},
   "source": [
    "\n",
    "#### Repacking for ML"
   ]
  },
  {
   "cell_type": "code",
   "execution_count": 6,
   "metadata": {},
   "outputs": [],
   "source": [
    "# Minimal length of signals?\n",
    "\n",
    "m = 10000\n",
    "i = 1\n",
    "for ix,sig in enumerate(sigs):\n",
    "    if sig.tappingLength < m:\n",
    "        m = sig.tappingLength\n",
    "        i = ix\n",
    "        \n",
    "# The shortest signal is sigs[86], corresponding to a CTRL, rhec. Lasts a total of 12s, and 7.25s of active tapping.\n",
    "# Going to remove those with active signal <10s\n",
    "# Crop signals into new data. Take 8s of data, overlap by 1s. \n"
   ]
  },
  {
   "cell_type": "code",
   "execution_count": 7,
   "metadata": {},
   "outputs": [],
   "source": [
    "def encodeDiagnosis(diagnosis):\n",
    "    le = LabelEncoder()\n",
    "    le.fit(['CTRL','MSA','PD','PSP'])\n",
    "    # This is the encoding:\n",
    "    # CTRL -----> 0 -----> [1,0,0,0]\n",
    "    # MSA ----->  1 -----> [0,1,0,0]\n",
    "    # PD -----> 2 -----> [0,0,1,0]\n",
    "    # PSP -----> 3 -----> [0,0,0,1]\n",
    "    \n",
    "    diagnosis = le.transform([diagnosis])\n",
    "    oneHotDiagnosis = np.zeros((1,4),dtype='uint8')\n",
    "    idx = diagnosis[0]\n",
    "    oneHotDiagnosis[0][idx] = 1\n",
    "    return oneHotDiagnosis[0]\n",
    "\n",
    "  \n",
    "    "
   ]
  },
  {
   "cell_type": "code",
   "execution_count": 8,
   "metadata": {},
   "outputs": [],
   "source": [
    "\n",
    "X = []  # signals\n",
    "Y = []  # diagnoses\n",
    "nSeconds = 13\n",
    "for sig in sigs:\n",
    "    crops = sig.packAndCrop(nSeconds)\n",
    "    for crop in crops:\n",
    "        X.append(crop)\n",
    "        Y.append(encodeDiagnosis(sig.diagnosis))\n",
    "    \n",
    "Y = np.reshape(Y,(len(Y),4))\n",
    "\n",
    "# Cannot reshape X, memory error.\n",
    "# Try splitting into train, test, val first\n",
    "\n",
    "Xtrain, Xtest, Ytrain, Ytest = train_test_split(X,Y,test_size=0.3, random_state=1)\n",
    "Xtest, Xval, Ytest, Yval = train_test_split(Xtest, Ytest, test_size = 0.2, random_state =1)\n",
    "\n",
    "Xval = np.array(Xval)\n",
    "Xtest = np.array(Xtest)\n",
    "\n",
    "# erm, still too much?\n",
    "\n",
    "batch1 = Xtrain[:int(len(Xtrain)/3)]\n",
    "batch2 = Xtrain[int(len(Xtrain)/3):2*int(len(Xtrain)/3)]\n",
    "batch3 = Xtrain[2*int(len(Xtrain)/3):]\n",
    "\n",
    "batch1 = np.array(batch1)\n",
    "batch2 = np.array(batch2)\n",
    "batch3 = np.array(batch3)\n",
    "\n",
    "#can only run this once :/ because memory error"
   ]
  },
  {
   "cell_type": "code",
   "execution_count": 18,
   "metadata": {},
   "outputs": [
    {
     "data": {
      "image/png": "[encoded data removed]",
      "text/plain": [
       "<Figure size 432x288 with 1 Axes>"
      ]
     },
     "metadata": {
      "needs_background": "light"
     },
     "output_type": "display_data"
    }
   ],
   "source": [
    "plt.plot(batch3[111].T)\n",
    "plt.show()"
   ]
  },
  {
   "cell_type": "code",
   "execution_count": 19,
   "metadata": {},
   "outputs": [
    {
     "data": {
      "text/plain": [
       "135200064"
      ]
     },
     "execution_count": 19,
     "metadata": {},
     "output_type": "execute_result"
    }
   ],
   "source": [
    "import sys\n",
    "sys.getsizeof(batch1)"
   ]
  },
  {
   "cell_type": "markdown",
   "metadata": {},
   "source": [
    "Whyyyyyyyyyyyy"
   ]
  },
  {
   "cell_type": "code",
   "execution_count": null,
   "metadata": {},
   "outputs": [],
   "source": []
  }
 ],
 "metadata": {
  "kernelspec": {
   "display_name": "Python 3",
   "language": "python",
   "name": "python3"
  },
  "language_info": {
   "codemirror_mode": {
    "name": "ipython",
    "version": 3
   },
   "file_extension": ".py",
   "mimetype": "text/x-python",
   "name": "python",
   "nbconvert_exporter": "python",
   "pygments_lexer": "ipython3",
   "version": "3.7.0"
  }
 },
 "nbformat": 4,
 "nbformat_minor": 2
}
